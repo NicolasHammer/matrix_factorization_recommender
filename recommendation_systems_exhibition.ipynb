{
 "metadata": {
  "language_info": {
   "codemirror_mode": {
    "name": "ipython",
    "version": 3
   },
   "file_extension": ".py",
   "mimetype": "text/x-python",
   "name": "python",
   "nbconvert_exporter": "python",
   "pygments_lexer": "ipython3",
   "version": "3.8.5-final"
  },
  "orig_nbformat": 2,
  "kernelspec": {
   "name": "python3",
   "display_name": "Python 3.8.5 64-bit",
   "metadata": {
    "interpreter": {
     "hash": "082e9a3bcad0a290d0001e938aa60b99250c6c2ef33a923c00b70f9826caf4b7"
    }
   }
  }
 },
 "nbformat": 4,
 "nbformat_minor": 2,
 "cells": [
  {
   "source": [
    "# Recommendation Systems Exhibition"
   ],
   "cell_type": "markdown",
   "metadata": {}
  },
  {
   "cell_type": "code",
   "execution_count": 1,
   "metadata": {},
   "outputs": [],
   "source": [
    "# Import packages used throughout\n",
    "from mxnet import autograd, gluon, np, npx\n",
    "from mxnet.gluon import nn\n",
    "import mxnet as mx\n",
    "import pandas as pd\n",
    "\n",
    "from data.import_data import split_and_load_ml100k\n",
    "from methods.utils import Accumulator, try_all_gpus\n",
    "\n",
    "from methods.matrix_factorization import MF, evaluator, train_recsys_rating\n",
    "\n",
    "npx.set_np()"
   ]
  },
  {
   "source": [
    "## Part 1: MovieLens Dataset"
   ],
   "cell_type": "markdown",
   "metadata": {}
  },
  {
   "cell_type": "code",
   "execution_count": 2,
   "metadata": {},
   "outputs": [],
   "source": [
    "# Import data\n",
    "names = [\"user_id\", \"item_id\", \"rating\", \"timestamp\"]\n",
    "data = pd.read_csv(\"data/u.data\", delimiter='\\t', names = names, engine = \"python\")\n",
    "num_users = data.user_id.unique().shape[0]\n",
    "num_items = data.item_id.unique().shape[0]"
   ]
  },
  {
   "source": [
    "## Part 2: Matrix Factorization"
   ],
   "cell_type": "markdown",
   "metadata": {}
  },
  {
   "cell_type": "code",
   "execution_count": 4,
   "metadata": {},
   "outputs": [
    {
     "output_type": "error",
     "ename": "NameError",
     "evalue": "name 'evaluator' is not defined",
     "traceback": [
      "\u001b[0;31m---------------------------------------------------------------------------\u001b[0m",
      "\u001b[0;31mNameError\u001b[0m                                 Traceback (most recent call last)",
      "\u001b[0;32m<ipython-input-4-6927781cf935>\u001b[0m in \u001b[0;36m<module>\u001b[0;34m\u001b[0m\n\u001b[1;32m      9\u001b[0m                         {\"learning_rate\": lr, 'wd': wd})\n\u001b[1;32m     10\u001b[0m train_recsys_rating(net, train_iter, test_iter, loss, trainer, num_epochs,\n\u001b[0;32m---> 11\u001b[0;31m                     devices, evaluator)\n\u001b[0m",
      "\u001b[0;31mNameError\u001b[0m: name 'evaluator' is not defined"
     ]
    }
   ],
   "source": [
    "devices = try_all_gpus()\n",
    "num_users, num_items, train_iter, test_iter = split_and_load_ml100k(\n",
    "    data, num_users, num_items, test_ratio = 0.1, batch_size = 512)\n",
    "net = MF(30, num_users, num_items)\n",
    "net.initialize(ctx=devices, force_reinit=True, init=mx.init.Normal(0.01))\n",
    "lr, num_epochs, wd, optimizer = 0.002, 20, 1e-5, 'adam'\n",
    "loss = gluon.loss.L2Loss()\n",
    "trainer = gluon.Trainer(net.collect_params(), optimizer,\n",
    "                        {\"learning_rate\": lr, 'wd': wd})\n",
    "train_recsys_rating(net, train_iter, test_iter, loss, trainer, num_epochs,\n",
    "                    devices, evaluator)"
   ]
  },
  {
   "cell_type": "code",
   "execution_count": null,
   "metadata": {},
   "outputs": [],
   "source": []
  }
 ]
}