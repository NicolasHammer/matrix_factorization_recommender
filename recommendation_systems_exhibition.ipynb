{
 "metadata": {
  "language_info": {
   "codemirror_mode": {
    "name": "ipython",
    "version": 3
   },
   "file_extension": ".py",
   "mimetype": "text/x-python",
   "name": "python",
   "nbconvert_exporter": "python",
   "pygments_lexer": "ipython3",
   "version": "3.8.5-final"
  },
  "orig_nbformat": 2,
  "kernelspec": {
   "name": "python3",
   "display_name": "Python 3.8.5 64-bit",
   "metadata": {
    "interpreter": {
     "hash": "082e9a3bcad0a290d0001e938aa60b99250c6c2ef33a923c00b70f9826caf4b7"
    }
   }
  }
 },
 "nbformat": 4,
 "nbformat_minor": 2,
 "cells": [
  {
   "source": [
    "# Recommendation Systems Exhibition"
   ],
   "cell_type": "markdown",
   "metadata": {}
  },
  {
   "cell_type": "code",
   "execution_count": null,
   "metadata": {},
   "outputs": [],
   "source": [
    "# Import packages used throughout\n",
    "from mxnet import autograd, gluon, np, npx\n",
    "from mxnet.gluon import nn\n",
    "import mxnet as mx\n",
    "\n",
    "import pandas as pd\n",
    "import matplotlib.pyplot as plt\n",
    "\n",
    "from data.import_data import split_data_ml100k, load_data_ml100k, split_and_load_ml100k\n",
    "from methods.utils import Accumulator, try_all_gpus, get_dataloader_workers\n",
    "from methods.losses import BPRLoss\n",
    "\n",
    "from methods.matrix_factorization import MF, evaluator, train_recsys_rating\n",
    "from methods.NeuMF import NeuMF, PRDataset, evaluate_ranking, train_ranking\n",
    "from methods.Caser import Caser, SeqDataset\n",
    "\n",
    "npx.set_np()"
   ]
  },
  {
   "source": [
    "## MovieLens Dataset"
   ],
   "cell_type": "markdown",
   "metadata": {}
  },
  {
   "cell_type": "code",
   "execution_count": null,
   "metadata": {},
   "outputs": [],
   "source": [
    "# Import data\n",
    "names = [\"user_id\", \"item_id\", \"rating\", \"timestamp\"]\n",
    "data = pd.read_csv(\"data/u.data\", delimiter='\\t', names = names, engine = \"python\")\n",
    "num_users = data.user_id.unique().shape[0]\n",
    "num_items = data.item_id.unique().shape[0]"
   ]
  },
  {
   "source": [
    "## Matrix Factorization (explicit)"
   ],
   "cell_type": "markdown",
   "metadata": {}
  },
  {
   "cell_type": "code",
   "execution_count": null,
   "metadata": {},
   "outputs": [],
   "source": [
    "# Split, train, and test\n",
    "devices = try_all_gpus()\n",
    "num_users, num_items, train_iter, test_iter = split_and_load_ml100k(\n",
    "    data, num_users, num_items, test_ratio = 0.1, batch_size = 512)\n",
    "net = MF(30, num_users, num_items)\n",
    "net.initialize(ctx=devices, force_reinit=True, init=mx.init.Normal(0.01))\n",
    "lr, num_epochs, wd, optimizer = 0.002, 20, 1e-5, 'adam'\n",
    "loss = gluon.loss.L2Loss()\n",
    "trainer = gluon.Trainer(net.collect_params(), optimizer,\n",
    "                        {\"learning_rate\": lr, 'wd': wd})\n",
    "rmse_list = train_recsys_rating(net, train_iter, test_iter, loss, trainer, num_epochs, devices, evaluator)"
   ]
  },
  {
   "cell_type": "code",
   "execution_count": null,
   "metadata": {},
   "outputs": [],
   "source": [
    "# Visualize\n",
    "%matplotlib qt\n",
    "plt.plot(list(range(20)), rmse_list)\n",
    "\n",
    "plt.ylim(ymin = 0)\n",
    "plt.ylabel(\"RMSE\")\n",
    "\n",
    "plt.xlabel(\"Epoch\")\n",
    "plt.xticks([0, 5, 10, 15, 20])\n",
    "\n",
    "plt.title(\"Matrix Factorization Test: RMSE over 20 Epochs\")\n",
    "plt.grid()"
   ]
  },
  {
   "source": [
    "## NeuMF"
   ],
   "cell_type": "markdown",
   "metadata": {}
  },
  {
   "cell_type": "code",
   "execution_count": null,
   "metadata": {},
   "outputs": [],
   "source": [
    "# Split Dataset\n",
    "batch_size = 1024\n",
    "train_data, test_data = split_data_ml100k(data, num_users, num_items,'seq-aware')\n",
    "users_train, items_train, ratings_train, candidates = load_data_ml100k(\n",
    "    train_data, num_users, num_items, feedback=\"implicit\")\n",
    "users_test, items_test, ratings_test, test_iter = load_data_ml100k(\n",
    "    test_data, num_users, num_items, feedback=\"implicit\")\n",
    "train_iter = gluon.data.DataLoader(\n",
    "    PRDataset(users_train, items_train, candidates, num_items ), batch_size,\n",
    "    True, last_batch=\"rollover\", num_workers=get_dataloader_workers())"
   ]
  },
  {
   "cell_type": "code",
   "execution_count": null,
   "metadata": {},
   "outputs": [],
   "source": [
    "# Create and initialize model\n",
    "devices = try_all_gpus()\n",
    "net = NeuMF(10, num_users, num_items, nums_hiddens=[10, 10, 10])\n",
    "net.initialize(ctx=devices, force_reinit=True, init=mx.init.Normal(0.01))"
   ]
  },
  {
   "cell_type": "code",
   "execution_count": null,
   "metadata": {},
   "outputs": [],
   "source": [
    "# Train model\n",
    "lr, num_epochs, wd, optimizer = 0.01, 8, 1e-5, 'adam'\n",
    "loss = BPRLoss()\n",
    "trainer = gluon.Trainer(net.collect_params(), optimizer,\n",
    "                        {\"learning_rate\": lr, 'wd': wd})\n",
    "hit_rate_list_neu, auc_list_neu = train_ranking(net, train_iter, test_iter, loss, trainer,\n",
    "                          None, num_users, num_items, num_epochs, devices, evaluate_ranking, candidates)"
   ]
  },
  {
   "source": [
    "## Caser"
   ],
   "cell_type": "markdown",
   "metadata": {}
  },
  {
   "cell_type": "code",
   "execution_count": null,
   "metadata": {},
   "outputs": [],
   "source": [
    "# Load dataset\n",
    "TARGET_NUM, L, batch_size = 1, 5, 4096\n",
    "train_data, test_data = split_data_ml100k(data, num_users, num_items,\n",
    "                                              'seq-aware')\n",
    "users_train, items_train, ratings_train, candidates = load_data_ml100k(\n",
    "    train_data, num_users, num_items, feedback=\"implicit\")\n",
    "users_test, items_test, ratings_test, test_iter = load_data_ml100k(\n",
    "    test_data, num_users, num_items, feedback=\"implicit\")\n",
    "train_seq_data = SeqDataset(users_train, items_train, L, num_users,\n",
    "                            num_items, candidates)\n",
    "train_iter = gluon.data.DataLoader(train_seq_data, batch_size, True,\n",
    "                                   last_batch=\"rollover\",\n",
    "                                   num_workers=get_dataloader_workers())\n",
    "test_seq_iter = train_seq_data.test_seq\n",
    "train_seq_data[0]"
   ]
  },
  {
   "cell_type": "code",
   "execution_count": null,
   "metadata": {},
   "outputs": [],
   "source": [
    "devices = try_all_gpus()\n",
    "net = Caser(10, num_users, num_items, L)\n",
    "net.initialize(ctx=devices, force_reinit=True, init=mx.init.Normal(0.01))\n",
    "lr, num_epochs, wd, optimizer = 0.04, 8, 1e-5, 'adam'\n",
    "loss = BPRLoss()\n",
    "trainer = gluon.Trainer(net.collect_params(), optimizer,\n",
    "                        {\"learning_rate\": lr, 'wd': wd})\n",
    "\n",
    "hit_rate_list_caser, auc_list_caser = train_ranking(net, train_iter, test_iter, loss, trainer, test_seq_iter, num_users, num_items, num_epochs, devices, evaluate_ranking, candidates, eval_step=1)"
   ]
  },
  {
   "cell_type": "code",
   "execution_count": null,
   "metadata": {},
   "outputs": [],
   "source": []
  }
 ]
}