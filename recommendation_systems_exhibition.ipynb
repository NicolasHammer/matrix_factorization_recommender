{
 "cells": [
  {
   "cell_type": "markdown",
   "metadata": {},
   "source": [
    "# Recommendation Systems Exhibition"
   ]
  },
  {
   "cell_type": "code",
   "execution_count": 1,
   "metadata": {},
   "outputs": [
    {
     "name": "stdout",
     "output_type": "stream",
     "text": [
      "Using cuda\n"
     ]
    }
   ],
   "source": [
    "# Import packages used throughout\n",
    "import numpy as np\n",
    "import pandas as pd\n",
    "import matplotlib.pyplot as plt\n",
    "\n",
    "import torch\n",
    "from torch import nn, optim\n",
    "from torch.utils.data import DataLoader, TensorDataset\n",
    "\n",
    "from data import import_data \n",
    "from methods import (utils, losses, matrix_factorization, AutoRec,   \n",
    "    neural_collaborative_filtering, sequence_aware)\n",
    "\n",
    "device = torch.device(\"cuda\" if torch.cuda.is_available() else \"cpu\")\n",
    "print(f\"Using {device}\")"
   ]
  },
  {
   "cell_type": "markdown",
   "metadata": {},
   "source": [
    "## Datasets"
   ]
  },
  {
   "cell_type": "markdown",
   "metadata": {},
   "source": [
    "### Movielens Data"
   ]
  },
  {
   "cell_type": "code",
   "execution_count": 2,
   "metadata": {},
   "outputs": [],
   "source": [
    "# Import data\n",
    "names = [\"user_id\", \"item_id\", \"rating\", \"timestamp\"]\n",
    "data = pd.read_csv(\"data/u.data\", delimiter='\\t', names = names, engine = \"python\")\n",
    "num_users = data.user_id.unique().shape[0]\n",
    "num_items = data.item_id.unique().shape[0]"
   ]
  },
  {
   "cell_type": "markdown",
   "metadata": {},
   "source": [
    "## Explicit Models (with MovieLens)"
   ]
  },
  {
   "cell_type": "markdown",
   "metadata": {},
   "source": [
    "### Matrix Factorization"
   ]
  },
  {
   "cell_type": "code",
   "execution_count": 3,
   "metadata": {},
   "outputs": [],
   "source": [
    "# Obtain the data\n",
    "num_users, num_items, train_iter, test_iter = import_data.split_and_load_ml100k(data,\n",
    "    num_users, num_items, device, test_ratio = 0.1, batch_size=512)"
   ]
  },
  {
   "cell_type": "code",
   "execution_count": 4,
   "metadata": {},
   "outputs": [],
   "source": [
    "# Define evaluator\n",
    "def evaluator(net, test_iter):\n",
    "    rmse_list = []\n",
    "    for _, (users, items, ratings) in enumerate(test_iter):\n",
    "        r_hat = net(users, items)\n",
    "        rmse_value = torch.sqrt(((r_hat - ratings)**2).mean())\n",
    "        rmse_list.append(float(rmse_value))\n",
    "\n",
    "    return np.mean(np.array(rmse_list))"
   ]
  },
  {
   "cell_type": "code",
   "execution_count": 5,
   "metadata": {},
   "outputs": [],
   "source": [
    "# Prepare model\n",
    "lr, num_epochs, wd = 0.002, 20, 1e-5\n",
    "\n",
    "mf_net = matrix_factorization.MF(30, num_users, num_items).to(device)\n",
    "optimizer = optim.Adam(mf_net.parameters(), lr = lr, weight_decay = wd)"
   ]
  },
  {
   "cell_type": "code",
   "execution_count": 6,
   "metadata": {},
   "outputs": [
    {
     "name": "stdout",
     "output_type": "stream",
     "text": [
      "Epoch 0:\n",
      "\tloss = 0.01788276806473732\n",
      "\trmse = 1.938893437385559\n",
      "Epoch 1:\n",
      "\tloss = 0.002736873459070921\n",
      "\trmse = 1.21602463722229\n",
      "Epoch 2:\n",
      "\tloss = 0.0018846499733626842\n",
      "\trmse = 1.0958380103111267\n",
      "Epoch 3:\n",
      "\tloss = 0.0017537240637466311\n",
      "\trmse = 1.0733677744865417\n",
      "Epoch 4:\n",
      "\tloss = 0.0017041999381035566\n",
      "\trmse = 1.0643903613090515\n",
      "Epoch 5:\n",
      "\tloss = 0.0016729634953662753\n",
      "\trmse = 1.0558914542198181\n",
      "Epoch 6:\n",
      "\tloss = 0.0016479778569191694\n",
      "\trmse = 1.0576258897781372\n",
      "Epoch 7:\n",
      "\tloss = 0.0016233051428571343\n",
      "\trmse = 1.0557850003242493\n",
      "Epoch 8:\n",
      "\tloss = 0.0016047919634729624\n",
      "\trmse = 1.05287504196167\n",
      "Epoch 9:\n",
      "\tloss = 0.0015864224405959249\n",
      "\trmse = 1.0516024231910706\n",
      "Epoch 10:\n",
      "\tloss = 0.001569243730045855\n",
      "\trmse = 1.048521876335144\n",
      "Epoch 11:\n",
      "\tloss = 0.0015538785373792052\n",
      "\trmse = 1.0464833974838257\n",
      "Epoch 12:\n",
      "\tloss = 0.001538289594464004\n",
      "\trmse = 1.0472553372383118\n",
      "Epoch 13:\n",
      "\tloss = 0.0015192971331998706\n",
      "\trmse = 1.0461549162864685\n",
      "Epoch 14:\n",
      "\tloss = 0.0014999235281720757\n",
      "\trmse = 1.047378122806549\n",
      "Epoch 15:\n",
      "\tloss = 0.0014764750376343727\n",
      "\trmse = 1.0405333042144775\n",
      "Epoch 16:\n",
      "\tloss = 0.0014503158163279295\n",
      "\trmse = 1.0387210547924042\n",
      "Epoch 17:\n",
      "\tloss = 0.0014188435161486268\n",
      "\trmse = 1.0445336699485779\n",
      "Epoch 18:\n",
      "\tloss = 0.001384118339046836\n",
      "\trmse = 1.0369689762592316\n",
      "Epoch 19:\n",
      "\tloss = 0.0013468185206875205\n",
      "\trmse = 1.035613626241684\n"
     ]
    }
   ],
   "source": [
    "# Train and evaluate model\n",
    "rmse_list = []\n",
    "loss_list = []\n",
    "for epoch in range(num_epochs):\n",
    "    total_loss, num_samples = 0, 0\n",
    "\n",
    "    # Train each batch\n",
    "    mf_net.train()\n",
    "    for i, (users, items, ratings) in enumerate(train_iter):\n",
    "        optimizer.zero_grad()\n",
    "\n",
    "        predictions = mf_net(users, items)\n",
    "        output = ((predictions - ratings)**2).mean()\n",
    "        output.backward()\n",
    "        optimizer.step()\n",
    "\n",
    "        total_loss += output\n",
    "        num_samples += users.shape[0]\n",
    "    \n",
    "    # Evaluate\n",
    "    mf_net.eval()\n",
    "    rmse = evaluator(mf_net, test_iter)\n",
    "    rmse_list.append(rmse)\n",
    "    loss_list.append(total_loss/num_samples)\n",
    "\n",
    "    print(f\"Epoch {epoch}:\\n\\tloss = {total_loss/num_samples}\\n\\trmse = {rmse}\")"
   ]
  },
  {
   "cell_type": "code",
   "execution_count": 7,
   "metadata": {},
   "outputs": [
    {
     "data": {
      "text/plain": [
       "<matplotlib.legend.Legend at 0x7fac0ea11d30>"
      ]
     },
     "execution_count": 7,
     "metadata": {},
     "output_type": "execute_result"
    },
    {
     "data": {
      "image/png": "[encoded data removed]",
      "text/plain": [
       "<Figure size 432x288 with 2 Axes>"
      ]
     },
     "metadata": {
      "needs_background": "light"
     },
     "output_type": "display_data"
    }
   ],
   "source": [
    "# Visualize\n",
    "fig, ax = plt.subplots(2)\n",
    "fig.suptitle(f\"Matrix Factorization Test over {num_epochs} Epochs\")\n",
    "\n",
    "x_vals = list(range(1, num_epochs + 1))\n",
    "ax[0].plot(x_vals, rmse_list, label = \"RMSE\", color = \"blue\")\n",
    "ax[0].set_ylabel(\"RMSE\")\n",
    "ax[0].set_xticks(x_vals[::2])\n",
    "ax[0].legend()\n",
    "\n",
    "ax[1].plot(x_vals, loss_list, label = \"Loss\", color = \"green\")\n",
    "ax[1].set_ylabel(\"Loss\")\n",
    "ax[1].set_xlabel(\"Epoch\")\n",
    "ax[1].set_xticks(x_vals[::2])\n",
    "ax[1].legend()"
   ]
  },
  {
   "cell_type": "markdown",
   "metadata": {},
   "source": [
    "### AutoRec"
   ]
  },
  {
   "cell_type": "code",
   "execution_count": 8,
   "metadata": {},
   "outputs": [],
   "source": [
    "# Obtain the data\n",
    "train_data, test_data = import_data.split_data_ml100k(data, num_users, num_items)\n",
    "\n",
    "_, _, _, train_inter_matrix = import_data.load_data_ml100k(train_data, num_users, num_items)\n",
    "_, _, _, test_inter_matrix = import_data.load_data_ml100k(test_data, num_users, num_items)\n",
    "\n",
    "train_inter_tensor = torch.from_numpy(train_inter_matrix).to(torch.float)\n",
    "test_inter_tensor = torch.from_numpy(test_inter_matrix).to(torch.float)\n",
    "\n",
    "train_iter = DataLoader(train_inter_tensor, shuffle = True, batch_size = 256,\n",
    "    num_workers = 4)\n",
    "test_iter = DataLoader(test_inter_tensor, shuffle = False, batch_size = 1024,\n",
    "    num_workers = 4)"
   ]
  },
  {
   "cell_type": "code",
   "execution_count": 9,
   "metadata": {},
   "outputs": [],
   "source": [
    "# Define evaluator\n",
    "def evaluator(network, test_iter, device):\n",
    "    rmse_list = []\n",
    "    for _, users_ratings in enumerate(test_iter):\n",
    "        users_ratings = users_ratings.to(device)\n",
    "        recons = network(users_ratings)\n",
    "        rmse_value = torch.sqrt(\n",
    "            ((torch.sign(users_ratings) * recons - users_ratings)**2).mean())\n",
    "        rmse_list.append(float(rmse_value))\n",
    "\n",
    "    return np.mean(np.array(rmse_list))"
   ]
  },
  {
   "cell_type": "code",
   "execution_count": 10,
   "metadata": {},
   "outputs": [],
   "source": [
    "# Prepare model\n",
    "lr, num_epochs, wd = 0.002, 25, 1e-5\n",
    "\n",
    "autorec_net = AutoRec(500, num_users).to(device)\n",
    "optimizer = optim.Adam(autorec_net.parameters(), lr = lr, weight_decay=wd)"
   ]
  },
  {
   "cell_type": "code",
   "execution_count": 11,
   "metadata": {},
   "outputs": [
    {
     "name": "stdout",
     "output_type": "stream",
     "text": [
      "Epoch 0:\n",
      "\tloss = 0.002089346293359995\n",
      "\trmse = 0.22827046737074852\n",
      "Epoch 1:\n",
      "\tloss = 0.0012450127396732569\n",
      "\trmse = 0.2134353294968605\n",
      "Epoch 2:\n",
      "\tloss = 0.0007309825159609318\n",
      "\trmse = 0.2069106176495552\n",
      "Epoch 3:\n",
      "\tloss = 0.000592020689509809\n",
      "\trmse = 0.20410972461104393\n",
      "Epoch 4:\n",
      "\tloss = 0.000485582510009408\n",
      "\trmse = 0.20115626230835915\n",
      "Epoch 5:\n",
      "\tloss = 0.0004154314810875803\n",
      "\trmse = 0.20023371651768684\n",
      "Epoch 6:\n",
      "\tloss = 0.0003560574259608984\n",
      "\trmse = 0.19806016981601715\n",
      "Epoch 7:\n",
      "\tloss = 0.00031845984631218016\n",
      "\trmse = 0.19604692235589027\n",
      "Epoch 8:\n",
      "\tloss = 0.0002874613564927131\n",
      "\trmse = 0.19538172334432602\n",
      "Epoch 9:\n",
      "\tloss = 0.0002792445884551853\n",
      "\trmse = 0.19317437335848808\n",
      "Epoch 10:\n",
      "\tloss = 0.000258593907346949\n",
      "\trmse = 0.18901874870061874\n",
      "Epoch 11:\n",
      "\tloss = 0.00023502651310991496\n",
      "\trmse = 0.18847589194774628\n",
      "Epoch 12:\n",
      "\tloss = 0.0002182369353249669\n",
      "\trmse = 0.18514589220285416\n",
      "Epoch 13:\n",
      "\tloss = 0.000202162133064121\n",
      "\trmse = 0.1832520216703415\n",
      "Epoch 14:\n",
      "\tloss = 0.00018970003293361515\n",
      "\trmse = 0.18221140652894974\n",
      "Epoch 15:\n",
      "\tloss = 0.00017885782290250063\n",
      "\trmse = 0.18079323694109917\n",
      "Epoch 16:\n",
      "\tloss = 0.0001671868230914697\n",
      "\trmse = 0.17753315344452858\n",
      "Epoch 17:\n",
      "\tloss = 0.00017367025429848582\n",
      "\trmse = 0.17725209146738052\n",
      "Epoch 18:\n",
      "\tloss = 0.00017638917779549956\n",
      "\trmse = 0.17510924860835075\n",
      "Epoch 19:\n",
      "\tloss = 0.00018638854089658707\n",
      "\trmse = 0.17170164361596107\n",
      "Epoch 20:\n",
      "\tloss = 0.00020699702145066112\n",
      "\trmse = 0.17712533101439476\n",
      "Epoch 21:\n",
      "\tloss = 0.0001971995661733672\n",
      "\trmse = 0.1761879250407219\n",
      "Epoch 22:\n",
      "\tloss = 0.00018360529793426394\n",
      "\trmse = 0.17656877636909485\n",
      "Epoch 23:\n",
      "\tloss = 0.00020927506557200104\n",
      "\trmse = 0.1752251498401165\n",
      "Epoch 24:\n",
      "\tloss = 0.0001943917159223929\n",
      "\trmse = 0.17270738631486893\n"
     ]
    }
   ],
   "source": [
    "# Train and evaluate model\n",
    "rmse_list = []\n",
    "loss_list = []\n",
    "for epoch in range(num_epochs):\n",
    "    total_loss, num_samples = 0, 0\n",
    "\n",
    "    # Train each batch\n",
    "    autorec_net.train()\n",
    "    for i, user_ratings in enumerate(train_iter):\n",
    "        user_ratings = user_ratings.to(device)\n",
    "        optimizer.zero_grad()\n",
    "\n",
    "        predictions = autorec_net(user_ratings)\n",
    "        output = ((predictions - user_ratings)**2).mean()\n",
    "        output.backward()\n",
    "        optimizer.step()\n",
    "\n",
    "        total_loss += output\n",
    "        num_samples += user_ratings.shape[0]\n",
    "    \n",
    "    # Evaluate\n",
    "    autorec_net.eval()\n",
    "    rmse = evaluator(autorec_net, test_iter, device)\n",
    "    rmse_list.append(rmse)\n",
    "    loss_list.append(total_loss/num_samples)\n",
    "\n",
    "    print(f\"Epoch {epoch}:\\n\\tloss = {total_loss/num_samples}\\n\\trmse = {rmse}\")"
   ]
  },
  {
   "cell_type": "code",
   "execution_count": 12,
   "metadata": {},
   "outputs": [
    {
     "data": {
      "text/plain": [
       "<matplotlib.legend.Legend at 0x7fac0dccca30>"
      ]
     },
     "execution_count": 12,
     "metadata": {},
     "output_type": "execute_result"
    },
    {
     "data": {
      "image/png": "[encoded data removed]",
      "text/plain": [
       "<Figure size 432x288 with 2 Axes>"
      ]
     },
     "metadata": {
      "needs_background": "light"
     },
     "output_type": "display_data"
    }
   ],
   "source": [
    "# Visualize\n",
    "fig, ax = plt.subplots(2)\n",
    "fig.suptitle(f\"AutoRec Test over {num_epochs} Epochs\")\n",
    "\n",
    "x_vals = list(range(1, num_epochs + 1))\n",
    "ax[0].plot(x_vals, rmse_list, label = \"RMSE\", color = \"blue\")\n",
    "ax[0].set_ylabel(\"RMSE\")\n",
    "ax[0].set_xticks(x_vals[::2])\n",
    "ax[0].legend()\n",
    "\n",
    "ax[1].plot(x_vals, loss_list, label = \"Loss\", color = \"green\")\n",
    "ax[1].set_ylabel(\"Loss\")\n",
    "ax[1].set_xlabel(\"Epoch\")\n",
    "ax[1].set_xticks(x_vals[::2])\n",
    "ax[1].legend()"
   ]
  },
  {
   "cell_type": "markdown",
   "metadata": {},
   "source": [
    "## Implicit Models (with MovieLens)"
   ]
  },
  {
   "cell_type": "code",
   "execution_count": 13,
   "metadata": {},
   "outputs": [],
   "source": [
    "# Define metrics\n",
    "def hit_and_auc(rankedlist, test_item, k):\n",
    "    test_item = int(test_item)\n",
    "    hits_k = test_item in rankedlist[:k]\n",
    "    hits_all = [(idx, val) for idx, val in enumerate(rankedlist) if int(val) == test_item]\n",
    "\n",
    "    max_num = len(rankedlist) - 1\n",
    "    auc = 1.0 * (max_num - hits_all[0][0]) / \\\n",
    "        max_num if len(hits_all) > 0 else 0\n",
    "    return hits_k, auc"
   ]
  },
  {
   "cell_type": "markdown",
   "metadata": {},
   "source": [
    "## NeuMF"
   ]
  },
  {
   "cell_type": "code",
   "execution_count": 14,
   "metadata": {},
   "outputs": [],
   "source": [
    "# Prepare Dataset\n",
    "batch_size = 1024\n",
    "train_data, test_data = import_data.split_data_ml100k(data, num_users,\n",
    "    num_items,'seq-aware')\n",
    "\n",
    "# Training data\n",
    "users_train, items_train, _, interactions = import_data.load_data_ml100k(\n",
    "    train_data, num_users, num_items, feedback=\"implicit\")\n",
    "train_dataset = neural_collaborative_filtering.PRDataset(users_train, items_train, \n",
    "    interactions, num_items)\n",
    "train_iter = DataLoader(train_dataset, batch_size = batch_size, shuffle = True,\n",
    "    num_workers = 4)\n",
    "\n",
    "# Test data\n",
    "_, _, _, test_interactions = import_data.load_data_ml100k(test_data, num_users, num_items,\n",
    "    feedback=\"implicit\")"
   ]
  },
  {
   "cell_type": "code",
   "execution_count": 15,
   "metadata": {},
   "outputs": [],
   "source": [
    "# Define evaluator\n",
    "def evaluate_ranking_bpr(net, test_input, interactions, num_users, num_items, device):\n",
    "    ranked_list, ranked_items, hit_rate, auc = {}, {}, [], []\n",
    "    all_items = set([i for i in range(num_items)])\n",
    "    for u in range(num_users):\n",
    "        neg_items = list(all_items - set(interactions[u]))\n",
    "        user_ids, item_ids, scores = [], [], []\n",
    "        [item_ids.append(i) for i in neg_items]\n",
    "        [user_ids.append(u) for _ in neg_items]\n",
    "        test_dataset = TensorDataset(torch.from_numpy(np.array(user_ids)).to(device),    \n",
    "            torch.from_numpy(np.array(item_ids)).to(device))\n",
    "        test_data_iter = DataLoader(test_dataset, shuffle=False, batch_size=1024)\n",
    "\n",
    "        for _, (user_idxs, item_idxs) in enumerate(test_data_iter):\n",
    "            scores.extend(list(net(user_idxs, item_idxs).cpu().detach().numpy()))\n",
    "        item_scores = list(zip(item_ids, scores))\n",
    "\n",
    "        ranked_list[u] = sorted(item_scores, key=lambda t: t[1], reverse=True)\n",
    "        ranked_items[u] = [r[0] for r in ranked_list[u]]\n",
    "        \n",
    "        temp = hit_and_auc(ranked_items[u], test_input[u][0], 50)\n",
    "        hit_rate.append(temp[0])\n",
    "        auc.append(temp[1])\n",
    "    return np.mean(np.array(hit_rate)), np.mean(np.array(auc))"
   ]
  },
  {
   "cell_type": "code",
   "execution_count": 16,
   "metadata": {},
   "outputs": [],
   "source": [
    "# Define weight initializer\n",
    "def weights_init(module):\n",
    "    if isinstance(module, nn.Embedding) or isinstance(module, nn.Linear):\n",
    "        nn.init.normal_(module.weight, std=0.01)"
   ]
  },
  {
   "cell_type": "code",
   "execution_count": 17,
   "metadata": {},
   "outputs": [],
   "source": [
    "# Create and initialize model\n",
    "lr, num_epochs, wd = 0.01, 10, 1e-5\n",
    "\n",
    "neuMF_net = neural_collaborative_filtering.NeuMF(10, num_users, num_items,\n",
    "    nums_hiddens=[10, 10, 10]).to(device)\n",
    "neuMF_net.apply(weights_init)\n",
    "loss = losses.BPR_Loss\n",
    "optimizer = optim.Adam(neuMF_net.parameters(), lr = lr, weight_decay=wd)"
   ]
  },
  {
   "cell_type": "code",
   "execution_count": 18,
   "metadata": {},
   "outputs": [
    {
     "name": "stdout",
     "output_type": "stream",
     "text": [
      "Epoch 0:\n",
      "\tloss = 0.565872418360215\n",
      "\thit_rate = 0.19300106044538706\n",
      "\tauc = 0.7886980502978469\n",
      "Epoch 1:\n",
      "\tloss = 0.4962613617679365\n",
      "\thit_rate = 0.24072110286320256\n",
      "\tauc = 0.8057591749840258\n",
      "Epoch 2:\n",
      "\tloss = 0.46308221378675124\n",
      "\thit_rate = 0.25874867444326616\n",
      "\tauc = 0.8457555953713054\n",
      "Epoch 3:\n",
      "\tloss = 0.4429795441102369\n",
      "\thit_rate = 0.26617179215270415\n",
      "\tauc = 0.8534931166834597\n",
      "Epoch 4:\n",
      "\tloss = 0.4343540217798764\n",
      "\thit_rate = 0.24390243902439024\n",
      "\tauc = 0.8555678856820591\n",
      "Epoch 5:\n",
      "\tloss = 0.4284482353037385\n",
      "\thit_rate = 0.2704135737009544\n",
      "\tauc = 0.8590943417899921\n",
      "Epoch 6:\n",
      "\tloss = 0.424213501963654\n",
      "\thit_rate = 0.2757158006362672\n",
      "\tauc = 0.8567305114793828\n",
      "Epoch 7:\n",
      "\tloss = 0.42152572427424206\n",
      "\thit_rate = 0.27783669141039236\n",
      "\tauc = 0.8595187212845667\n",
      "Epoch 8:\n",
      "\tloss = 0.4170604730341495\n",
      "\thit_rate = 0.2841993637327678\n",
      "\tauc = 0.8585757923426559\n",
      "Epoch 9:\n",
      "\tloss = 0.41576668447325466\n",
      "\thit_rate = 0.2948038176033934\n",
      "\tauc = 0.8601690113284185\n"
     ]
    }
   ],
   "source": [
    "# Train and evaluate the model\n",
    "hit_rate_list = []\n",
    "auc_list = []\n",
    "for epoch in range(num_epochs):\n",
    "    accumulator, l = utils.Accumulator(2), 0.\n",
    "\n",
    "    # Train each batch\n",
    "    neuMF_net.train()\n",
    "    for i, (user_idxs, item_idxs, neg_items) in enumerate(train_iter):\n",
    "        user_idxs = user_idxs.to(device)\n",
    "        item_idxs = item_idxs.to(device)\n",
    "        neg_items = neg_items.to(device)\n",
    "\n",
    "        optimizer.zero_grad()\n",
    "\n",
    "        p_pos = neuMF_net(user_idxs, item_idxs)\n",
    "        p_neg = neuMF_net(user_idxs, neg_items)\n",
    "\n",
    "        total_loss = loss(p_pos, p_neg)\n",
    "        total_loss.backward()\n",
    "        optimizer.step()\n",
    "        accumulator.add(total_loss, user_idxs.shape[0])\n",
    "\n",
    "    # Evaluate\n",
    "    neuMF_net.eval()\n",
    "    hit_rate, auc = evaluate_ranking_bpr(neuMF_net, test_interactions, interactions, \n",
    "        num_users, num_items, device)\n",
    "    hit_rate_list.append(hit_rate)\n",
    "    auc_list.append(auc)\n",
    "\n",
    "    print(f\"Epoch {epoch}:\\n\\tloss = {accumulator[0]/accumulator[1]}\\n\\thit_rate = {hit_rate}\\n\\tauc = {auc}\")"
   ]
  },
  {
   "cell_type": "code",
   "execution_count": 19,
   "metadata": {},
   "outputs": [
    {
     "data": {
      "text/plain": [
       "(0.0, 1.0)"
      ]
     },
     "execution_count": 19,
     "metadata": {},
     "output_type": "execute_result"
    },
    {
     "data": {
      "image/png": "[encoded data removed]",
      "text/plain": [
       "<Figure size 432x288 with 1 Axes>"
      ]
     },
     "metadata": {
      "needs_background": "light"
     },
     "output_type": "display_data"
    }
   ],
   "source": [
    "# Visualize\n",
    "x = list(range(1, num_epochs + 1))\n",
    "plt.scatter(x, auc_list, label = \"AUC\")\n",
    "plt.scatter(x, hit_rate_list, label = \"Hit Rate\")\n",
    "plt.title(\"HR and AUC over Epoch of MF\")\n",
    "plt.xlabel(\"Epoch\")\n",
    "plt.legend(loc = \"lower right\")\n",
    "plt.xticks(x[0::2])\n",
    "plt.ylim((0, 1))"
   ]
  },
  {
   "cell_type": "markdown",
   "metadata": {},
   "source": [
    "## Caser"
   ]
  },
  {
   "cell_type": "code",
   "execution_count": 20,
   "metadata": {},
   "outputs": [],
   "source": [
    "# Prepare Dataset\n",
    "TARGET_NUM, L, batch_size = 1, 5, 4096\n",
    "train_data, test_data = import_data.split_data_ml100k(data, num_users, num_items,\n",
    "                                                        'seq-aware')\n",
    "\n",
    "# Training Data\n",
    "users_train, items_train, _, candidates = import_data.load_data_ml100k(\n",
    "    train_data, num_users, num_items, feedback=\"implicit\")\n",
    "train_seq_data = sequence_aware.SeqDataset(users_train, items_train, L, num_users,\n",
    "                                            num_items, candidates)\n",
    "train_iter = DataLoader(train_seq_data, batch_size=batch_size, shuffle=True, num_workers=4)\n",
    "\n",
    "# Test Data\n",
    "_, _, _, test_iter = import_data.load_data_ml100k(\n",
    "    test_data, num_users, num_items, feedback=\"implicit\")\n",
    "test_seq_iter = train_seq_data.test_seq"
   ]
  },
  {
   "cell_type": "code",
   "execution_count": 21,
   "metadata": {},
   "outputs": [],
   "source": [
    "# Define evaluator\n",
    "def evaluate_ranking_bpr(net, test_input, test_seq_iter, interactions, num_users, num_items, device):\n",
    "    ranked_list, ranked_items, hit_rate, auc = {}, {}, [], []\n",
    "    all_items = set([i for i in range(num_items)])\n",
    "    for u in range(num_users):\n",
    "        neg_items = list(all_items - set(interactions[u]))\n",
    "        user_ids, item_ids, scores = [], [], []\n",
    "        [item_ids.append(i) for i in neg_items]\n",
    "        [user_ids.append(u) for _ in neg_items]\n",
    "        test_dataset = TensorDataset(torch.from_numpy(np.array(user_ids)).type(torch.long).to(device),\n",
    "                                    torch.from_numpy(np.array(item_ids)).type(torch.long).to(device),\n",
    "                                    torch.from_numpy(np.array(test_seq_iter[user_ids, :])).type(torch.long).to(device))\n",
    "        test_data_iter = DataLoader(\n",
    "            test_dataset, shuffle=False, batch_size=1024)\n",
    "\n",
    "        for _, (user_idxs, item_idxs, seq) in enumerate(test_data_iter):\n",
    "            scores.extend(\n",
    "                list(net(user_idxs, seq, item_idxs).cpu().detach().numpy()))\n",
    "        item_scores = list(zip(item_ids, scores))\n",
    "\n",
    "        ranked_list[u] = sorted(\n",
    "            item_scores, key=lambda t: t[1], reverse=True)\n",
    "        ranked_items[u] = [r[0] for r in ranked_list[u]]\n",
    "\n",
    "        temp = hit_and_auc(ranked_items[u], test_input[u][0], 50)\n",
    "        hit_rate.append(temp[0])\n",
    "        auc.append(temp[1])\n",
    "    return np.mean(np.array(hit_rate)), np.mean(np.array(auc))"
   ]
  },
  {
   "cell_type": "code",
   "execution_count": 22,
   "metadata": {},
   "outputs": [],
   "source": [
    "# Weight initializer\n",
    "def weights_init(module):\n",
    "    if (isinstance(module, nn.Embedding) or isinstance(module, nn.Linear)\n",
    "            or isinstance(module, nn.Conv2d)):\n",
    "        nn.init.normal_(module.weight, std=0.01)"
   ]
  },
  {
   "cell_type": "code",
   "execution_count": 23,
   "metadata": {},
   "outputs": [],
   "source": [
    "# Create and initialize model\n",
    "lr, num_epochs, wd = 0.04, 10, 1e-5\n",
    "\n",
    "caser_net = sequence_aware.Caser(10, num_users, num_items, L).to(device)\n",
    "caser_net.apply(weights_init)\n",
    "loss = losses.BPR_Loss\n",
    "optimizer = optim.Adam(caser_net.parameters(), lr = lr, weight_decay=wd)"
   ]
  },
  {
   "cell_type": "code",
   "execution_count": 24,
   "metadata": {},
   "outputs": [
    {
     "name": "stdout",
     "output_type": "stream",
     "text": [
      "Epoch 0:\n",
      "\tloss = 0.41143472349688437\n",
      "\thit_rate = 0.20360551431601273\n",
      "\tauc = 0.7989752717193683\n",
      "Epoch 1:\n",
      "\tloss = 0.2680748731699649\n",
      "\thit_rate = 0.2704135737009544\n",
      "\tauc = 0.8536234707967996\n",
      "Epoch 2:\n",
      "\tloss = 0.1937177418343291\n",
      "\thit_rate = 0.32025450689289503\n",
      "\tauc = 0.8737551224020531\n",
      "Epoch 3:\n",
      "\tloss = 0.1633961688205832\n",
      "\thit_rate = 0.33510074231177095\n",
      "\tauc = 0.8745586918216827\n",
      "Epoch 4:\n",
      "\tloss = 0.15246144114581642\n",
      "\thit_rate = 0.344644750795334\n",
      "\tauc = 0.8821221367388834\n",
      "Epoch 5:\n",
      "\tloss = 0.1395445326099346\n",
      "\thit_rate = 0.35949098621421\n",
      "\tauc = 0.8851620577040383\n",
      "Epoch 6:\n",
      "\tloss = 0.13261442418363398\n",
      "\thit_rate = 0.3796394485683987\n",
      "\tauc = 0.8848349485818848\n",
      "Epoch 7:\n",
      "\tloss = 0.12715276632943584\n",
      "\thit_rate = 0.4029692470837752\n",
      "\tauc = 0.8839866166315438\n",
      "Epoch 8:\n",
      "\tloss = 0.12459191936146717\n",
      "\thit_rate = 0.39236479321314954\n",
      "\tauc = 0.883355690471528\n",
      "Epoch 9:\n",
      "\tloss = 0.12023694722810283\n",
      "\thit_rate = 0.39766702014846234\n",
      "\tauc = 0.8842235199582562\n"
     ]
    }
   ],
   "source": [
    "# Train and evaluate the model\n",
    "hit_rate_list = []\n",
    "auc_list = []\n",
    "for epoch in range(num_epochs):\n",
    "    accumulator, l = utils.Accumulator(2), 0.\n",
    "\n",
    "    # Train each batch\n",
    "    caser_net.train()\n",
    "    for i, (user_idxs, seq, pos_tgts, neg_tgts) in enumerate(train_iter):\n",
    "        user_idxs = user_idxs.to(device)\n",
    "        seq = seq.to(device)\n",
    "        pos_tgts = pos_tgts.to(device)\n",
    "        neg_tgts = neg_tgts.to(device)\n",
    "\n",
    "        optimizer.zero_grad()\n",
    "\n",
    "        user_idxs = user_idxs.type(torch.long)\n",
    "        seq = seq.type(torch.long)\n",
    "        pos_tgts = pos_tgts.type(torch.long)\n",
    "        neg_tgts = neg_tgts.type(torch.long)\n",
    "\n",
    "        p_pos = caser_net(user_idxs, seq, pos_tgts)\n",
    "        p_neg = caser_net(user_idxs, seq, neg_tgts)\n",
    "\n",
    "        total_loss = loss(p_pos, p_neg)\n",
    "        total_loss.backward()\n",
    "        optimizer.step()\n",
    "        accumulator.add(total_loss, user_idxs.shape[0])\n",
    "\n",
    "    # Evaluate\n",
    "    caser_net.eval()\n",
    "    hit_rate, auc = evaluate_ranking_bpr(\n",
    "        caser_net, test_iter, test_seq_iter, candidates, num_users, num_items, device)\n",
    "    hit_rate_list.append(hit_rate)\n",
    "    auc_list.append(auc)\n",
    "\n",
    "    print(\n",
    "        f\"Epoch {epoch}:\\n\\tloss = {accumulator[0]/accumulator[1]}\\n\\thit_rate = {hit_rate}\\n\\tauc = {auc}\")"
   ]
  },
  {
   "cell_type": "code",
   "execution_count": 25,
   "metadata": {},
   "outputs": [
    {
     "data": {
      "text/plain": [
       "(0.0, 1.0)"
      ]
     },
     "execution_count": 25,
     "metadata": {},
     "output_type": "execute_result"
    },
    {
     "data": {
      "image/png": "[encoded data removed]",
      "text/plain": [
       "<Figure size 432x288 with 1 Axes>"
      ]
     },
     "metadata": {
      "needs_background": "light"
     },
     "output_type": "display_data"
    }
   ],
   "source": [
    "# Visualize\n",
    "x = list(range(1, num_epochs + 1))\n",
    "plt.scatter(x, auc_list, label = \"AUC\")\n",
    "plt.scatter(x, hit_rate_list, label = \"Hit Rate\")\n",
    "plt.title(\"HR and AUC over Epoch of Caser\")\n",
    "plt.xlabel(\"Epoch\")\n",
    "plt.legend(loc = \"lower right\")\n",
    "plt.xticks(x[0::2])\n",
    "plt.ylim((0, 1))"
   ]
  }
 ],
 "metadata": {
  "interpreter": {
   "hash": "916dbcbb3f70747c44a77c7bcd40155683ae19c65e1c03b4aa3499c5328201f1"
  },
  "kernelspec": {
   "display_name": "Python 3.6.8 64-bit",
   "name": "python3"
  },
  "language_info": {
   "name": "python",
   "version": ""
  },
  "metadata": {
   "interpreter": {
    "hash": "082e9a3bcad0a290d0001e938aa60b99250c6c2ef33a923c00b70f9826caf4b7"
   }
  },
  "orig_nbformat": 2
 },
 "nbformat": 4,
 "nbformat_minor": 2
}